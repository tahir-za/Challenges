{
 "cells": [
  {
   "cell_type": "markdown",
   "metadata": {},
   "source": [
    "# Decision Tree Regression on the World Population"
   ]
  },
  {
   "cell_type": "markdown",
   "metadata": {},
   "source": [
    "In this test we'll train a simple decision tree model using the world population data from the Analyse Supplementary Exam. "
   ]
  },
  {
   "cell_type": "markdown",
   "metadata": {},
   "source": [
    "### Imports"
   ]
  },
  {
   "cell_type": "code",
   "execution_count": 2,
   "metadata": {},
   "outputs": [],
   "source": [
    "import numpy as np\n",
    "import pandas as pd\n",
    "from sklearn.tree import DecisionTreeRegressor"
   ]
  },
  {
   "cell_type": "code",
   "execution_count": 3,
   "metadata": {},
   "outputs": [],
   "source": [
    "population_df = pd.read_csv('https://raw.githubusercontent.com/Explore-AI/Public-Data/master/AnalyseProject/world_population.csv', index_col='Country Code')"
   ]
  },
  {
   "cell_type": "code",
   "execution_count": 3,
   "metadata": {},
   "outputs": [
    {
     "data": {
      "text/html": [
       "<div>\n",
       "<style scoped>\n",
       "    .dataframe tbody tr th:only-of-type {\n",
       "        vertical-align: middle;\n",
       "    }\n",
       "\n",
       "    .dataframe tbody tr th {\n",
       "        vertical-align: top;\n",
       "    }\n",
       "\n",
       "    .dataframe thead th {\n",
       "        text-align: right;\n",
       "    }\n",
       "</style>\n",
       "<table border=\"1\" class=\"dataframe\">\n",
       "  <thead>\n",
       "    <tr style=\"text-align: right;\">\n",
       "      <th></th>\n",
       "      <th>1960</th>\n",
       "      <th>1961</th>\n",
       "      <th>1962</th>\n",
       "      <th>1963</th>\n",
       "      <th>1964</th>\n",
       "      <th>1965</th>\n",
       "      <th>1966</th>\n",
       "      <th>1967</th>\n",
       "      <th>1968</th>\n",
       "      <th>1969</th>\n",
       "      <th>...</th>\n",
       "      <th>2008</th>\n",
       "      <th>2009</th>\n",
       "      <th>2010</th>\n",
       "      <th>2011</th>\n",
       "      <th>2012</th>\n",
       "      <th>2013</th>\n",
       "      <th>2014</th>\n",
       "      <th>2015</th>\n",
       "      <th>2016</th>\n",
       "      <th>2017</th>\n",
       "    </tr>\n",
       "    <tr>\n",
       "      <th>Country Code</th>\n",
       "      <th></th>\n",
       "      <th></th>\n",
       "      <th></th>\n",
       "      <th></th>\n",
       "      <th></th>\n",
       "      <th></th>\n",
       "      <th></th>\n",
       "      <th></th>\n",
       "      <th></th>\n",
       "      <th></th>\n",
       "      <th></th>\n",
       "      <th></th>\n",
       "      <th></th>\n",
       "      <th></th>\n",
       "      <th></th>\n",
       "      <th></th>\n",
       "      <th></th>\n",
       "      <th></th>\n",
       "      <th></th>\n",
       "      <th></th>\n",
       "      <th></th>\n",
       "    </tr>\n",
       "  </thead>\n",
       "  <tbody>\n",
       "    <tr>\n",
       "      <th>ABW</th>\n",
       "      <td>54211.0</td>\n",
       "      <td>55438.0</td>\n",
       "      <td>56225.0</td>\n",
       "      <td>56695.0</td>\n",
       "      <td>57032.0</td>\n",
       "      <td>57360.0</td>\n",
       "      <td>57715.0</td>\n",
       "      <td>58055.0</td>\n",
       "      <td>58386.0</td>\n",
       "      <td>58726.0</td>\n",
       "      <td>...</td>\n",
       "      <td>101353.0</td>\n",
       "      <td>101453.0</td>\n",
       "      <td>101669.0</td>\n",
       "      <td>102053.0</td>\n",
       "      <td>102577.0</td>\n",
       "      <td>103187.0</td>\n",
       "      <td>103795.0</td>\n",
       "      <td>104341.0</td>\n",
       "      <td>104822.0</td>\n",
       "      <td>105264.0</td>\n",
       "    </tr>\n",
       "    <tr>\n",
       "      <th>AFG</th>\n",
       "      <td>8996351.0</td>\n",
       "      <td>9166764.0</td>\n",
       "      <td>9345868.0</td>\n",
       "      <td>9533954.0</td>\n",
       "      <td>9731361.0</td>\n",
       "      <td>9938414.0</td>\n",
       "      <td>10152331.0</td>\n",
       "      <td>10372630.0</td>\n",
       "      <td>10604346.0</td>\n",
       "      <td>10854428.0</td>\n",
       "      <td>...</td>\n",
       "      <td>27294031.0</td>\n",
       "      <td>28004331.0</td>\n",
       "      <td>28803167.0</td>\n",
       "      <td>29708599.0</td>\n",
       "      <td>30696958.0</td>\n",
       "      <td>31731688.0</td>\n",
       "      <td>32758020.0</td>\n",
       "      <td>33736494.0</td>\n",
       "      <td>34656032.0</td>\n",
       "      <td>35530081.0</td>\n",
       "    </tr>\n",
       "    <tr>\n",
       "      <th>AGO</th>\n",
       "      <td>5643182.0</td>\n",
       "      <td>5753024.0</td>\n",
       "      <td>5866061.0</td>\n",
       "      <td>5980417.0</td>\n",
       "      <td>6093321.0</td>\n",
       "      <td>6203299.0</td>\n",
       "      <td>6309770.0</td>\n",
       "      <td>6414995.0</td>\n",
       "      <td>6523791.0</td>\n",
       "      <td>6642632.0</td>\n",
       "      <td>...</td>\n",
       "      <td>21759420.0</td>\n",
       "      <td>22549547.0</td>\n",
       "      <td>23369131.0</td>\n",
       "      <td>24218565.0</td>\n",
       "      <td>25096150.0</td>\n",
       "      <td>25998340.0</td>\n",
       "      <td>26920466.0</td>\n",
       "      <td>27859305.0</td>\n",
       "      <td>28813463.0</td>\n",
       "      <td>29784193.0</td>\n",
       "    </tr>\n",
       "    <tr>\n",
       "      <th>ALB</th>\n",
       "      <td>1608800.0</td>\n",
       "      <td>1659800.0</td>\n",
       "      <td>1711319.0</td>\n",
       "      <td>1762621.0</td>\n",
       "      <td>1814135.0</td>\n",
       "      <td>1864791.0</td>\n",
       "      <td>1914573.0</td>\n",
       "      <td>1965598.0</td>\n",
       "      <td>2022272.0</td>\n",
       "      <td>2081695.0</td>\n",
       "      <td>...</td>\n",
       "      <td>2947314.0</td>\n",
       "      <td>2927519.0</td>\n",
       "      <td>2913021.0</td>\n",
       "      <td>2905195.0</td>\n",
       "      <td>2900401.0</td>\n",
       "      <td>2895092.0</td>\n",
       "      <td>2889104.0</td>\n",
       "      <td>2880703.0</td>\n",
       "      <td>2876101.0</td>\n",
       "      <td>2873457.0</td>\n",
       "    </tr>\n",
       "    <tr>\n",
       "      <th>AND</th>\n",
       "      <td>13411.0</td>\n",
       "      <td>14375.0</td>\n",
       "      <td>15370.0</td>\n",
       "      <td>16412.0</td>\n",
       "      <td>17469.0</td>\n",
       "      <td>18549.0</td>\n",
       "      <td>19647.0</td>\n",
       "      <td>20758.0</td>\n",
       "      <td>21890.0</td>\n",
       "      <td>23058.0</td>\n",
       "      <td>...</td>\n",
       "      <td>83861.0</td>\n",
       "      <td>84462.0</td>\n",
       "      <td>84449.0</td>\n",
       "      <td>83751.0</td>\n",
       "      <td>82431.0</td>\n",
       "      <td>80788.0</td>\n",
       "      <td>79223.0</td>\n",
       "      <td>78014.0</td>\n",
       "      <td>77281.0</td>\n",
       "      <td>76965.0</td>\n",
       "    </tr>\n",
       "  </tbody>\n",
       "</table>\n",
       "<p>5 rows × 58 columns</p>\n",
       "</div>"
      ],
      "text/plain": [
       "                   1960       1961       1962       1963       1964  \\\n",
       "Country Code                                                          \n",
       "ABW             54211.0    55438.0    56225.0    56695.0    57032.0   \n",
       "AFG           8996351.0  9166764.0  9345868.0  9533954.0  9731361.0   \n",
       "AGO           5643182.0  5753024.0  5866061.0  5980417.0  6093321.0   \n",
       "ALB           1608800.0  1659800.0  1711319.0  1762621.0  1814135.0   \n",
       "AND             13411.0    14375.0    15370.0    16412.0    17469.0   \n",
       "\n",
       "                   1965        1966        1967        1968        1969  \\\n",
       "Country Code                                                              \n",
       "ABW             57360.0     57715.0     58055.0     58386.0     58726.0   \n",
       "AFG           9938414.0  10152331.0  10372630.0  10604346.0  10854428.0   \n",
       "AGO           6203299.0   6309770.0   6414995.0   6523791.0   6642632.0   \n",
       "ALB           1864791.0   1914573.0   1965598.0   2022272.0   2081695.0   \n",
       "AND             18549.0     19647.0     20758.0     21890.0     23058.0   \n",
       "\n",
       "                 ...            2008        2009        2010        2011  \\\n",
       "Country Code     ...                                                       \n",
       "ABW              ...        101353.0    101453.0    101669.0    102053.0   \n",
       "AFG              ...      27294031.0  28004331.0  28803167.0  29708599.0   \n",
       "AGO              ...      21759420.0  22549547.0  23369131.0  24218565.0   \n",
       "ALB              ...       2947314.0   2927519.0   2913021.0   2905195.0   \n",
       "AND              ...         83861.0     84462.0     84449.0     83751.0   \n",
       "\n",
       "                    2012        2013        2014        2015        2016  \\\n",
       "Country Code                                                               \n",
       "ABW             102577.0    103187.0    103795.0    104341.0    104822.0   \n",
       "AFG           30696958.0  31731688.0  32758020.0  33736494.0  34656032.0   \n",
       "AGO           25096150.0  25998340.0  26920466.0  27859305.0  28813463.0   \n",
       "ALB            2900401.0   2895092.0   2889104.0   2880703.0   2876101.0   \n",
       "AND              82431.0     80788.0     79223.0     78014.0     77281.0   \n",
       "\n",
       "                    2017  \n",
       "Country Code              \n",
       "ABW             105264.0  \n",
       "AFG           35530081.0  \n",
       "AGO           29784193.0  \n",
       "ALB            2873457.0  \n",
       "AND              76965.0  \n",
       "\n",
       "[5 rows x 58 columns]"
      ]
     },
     "execution_count": 3,
     "metadata": {},
     "output_type": "execute_result"
    }
   ],
   "source": [
    "population_df.head()"
   ]
  },
  {
   "cell_type": "markdown",
   "metadata": {},
   "source": [
    "### Question 1"
   ]
  },
  {
   "cell_type": "markdown",
   "metadata": {},
   "source": [
    "The world population data spans from 1960 to 2017. We'd like to build a predictive model that can give us the best guess at what the future world population in a given year might be. To do this, we're going to ignore the 2017 column from our data, and use this as a metric for testing the accuracy of our prediction.\n",
    "\n",
    "Since the given dataframe (`population_df`) only has population by country per year, we need to find the **total** world population for each year. To achieve this, we'll write a function that computes the sum of the populations of the different countries in `population_df` for each year. This function must return a \n",
    "return a 2-d numpy array that contains the year and the total world population.\n",
    "\n",
    "_**Function Specifications:**_\n",
    "* Should have no input and return a numpy `array` type as output.\n",
    "* The array should only have two columns containing the year and the population, in other words, it should have a shape `(?, 2)` where `?` is the length of the data.\n",
    "* The values within the array should be of type `np.int64`.\n",
    "\n",
    "_**Further Reading:**_\n",
    "\n",
    "Data types are associated with memory allocation. As such, your choice of data type affects the precision of computations in your program. For example, the `np.int` data type in numpy can only store values between -2147483648 to 2147483647 and assigning values outside this range for variables of this data type may cause run-time errors. To avoid this, we can use data types with larger memory capacity e.g. `np.int64`.\n",
    "\n",
    "https://docs.scipy.org/doc/numpy/user/basics.types.html"
   ]
  },
  {
   "cell_type": "code",
   "execution_count": 4,
   "metadata": {},
   "outputs": [
    {
     "data": {
      "text/plain": [
       "array([[      1960, 3014940395],\n",
       "       [      1961, 3055691989],\n",
       "       [      1962, 3108379009],\n",
       "       [      1963, 3173207428],\n",
       "       [      1964, 3238441149],\n",
       "       [      1965, 3305101319],\n",
       "       [      1966, 3374903353],\n",
       "       [      1967, 3444384585],\n",
       "       [      1968, 3514639116],\n",
       "       [      1969, 3589069293],\n",
       "       [      1970, 3664271341],\n",
       "       [      1971, 3741545439],\n",
       "       [      1972, 3818075376],\n",
       "       [      1973, 3893726301],\n",
       "       [      1974, 3970035481],\n",
       "       [      1975, 4044577268],\n",
       "       [      1976, 4117105339],\n",
       "       [      1977, 4189387395],\n",
       "       [      1978, 4262884975],\n",
       "       [      1979, 4338225244],\n",
       "       [      1980, 4414334568],\n",
       "       [      1981, 4492427948],\n",
       "       [      1982, 4573445316],\n",
       "       [      1983, 4655199096],\n",
       "       [      1984, 4736682102],\n",
       "       [      1985, 4819699772],\n",
       "       [      1986, 4905221325],\n",
       "       [      1987, 4992879504],\n",
       "       [      1988, 5081453078],\n",
       "       [      1989, 5170171686],\n",
       "       [      1990, 5267861414],\n",
       "       [      1991, 5355034619],\n",
       "       [      1992, 5439046865],\n",
       "       [      1993, 5523974088],\n",
       "       [      1994, 5607765176],\n",
       "       [      1995, 5692526372],\n",
       "       [      1996, 5775191117],\n",
       "       [      1997, 5857799900],\n",
       "       [      1998, 5939330037],\n",
       "       [      1999, 6019808586],\n",
       "       [      2000, 6099498206],\n",
       "       [      2001, 6178999138],\n",
       "       [      2002, 6258066893],\n",
       "       [      2003, 6337336633],\n",
       "       [      2004, 6417178545],\n",
       "       [      2005, 6497569010],\n",
       "       [      2006, 6578653086],\n",
       "       [      2007, 6660306328],\n",
       "       [      2008, 6743298983],\n",
       "       [      2009, 6826490839],\n",
       "       [      2010, 6909731743],\n",
       "       [      2011, 6991803968],\n",
       "       [      2012, 7071734672],\n",
       "       [      2013, 7157142528],\n",
       "       [      2014, 7243184776],\n",
       "       [      2015, 7329250474],\n",
       "       [      2016, 7415694711],\n",
       "       [      2017, 7501739318]], dtype=int64)"
      ]
     },
     "execution_count": 4,
     "metadata": {},
     "output_type": "execute_result"
    }
   ],
   "source": [
    "def get_total_population_by_country_year():\n",
    "    \n",
    "    # Your code here\n",
    "    df = population_df\n",
    "    df = df.melt(var_name='Year', value_name='Population')\n",
    "    #df.columns = ['Year', 'Population']\n",
    "    df = df.groupby('Year').sum()\n",
    "    arr = df.reset_index().values.astype(np.int64)\n",
    "    \n",
    "    return arr\n",
    "\n",
    "get_total_population_by_country_year()"
   ]
  },
  {
   "cell_type": "code",
   "execution_count": 6,
   "metadata": {},
   "outputs": [],
   "source": [
    "get_total_population_by_country_year()"
   ]
  },
  {
   "cell_type": "markdown",
   "metadata": {},
   "source": [
    "_**Expected Outputs:**_\n",
    "```python\n",
    "total_population_by_country_year()\n",
    "```\n",
    "> ```\n",
    "array([[      1960, 3014940395],\n",
    "       [      1961, 3055691989],\n",
    "       [      1962, 3108379009],\n",
    "       [      1963, 3173207428],\n",
    "        ...\n",
    "       [      2015, 7329250474],\n",
    "       [      2016, 7415694711],\n",
    "       [      2017, 7501739318]], dtype=int64)`\n",
    "```\n",
    "\n",
    "\n"
   ]
  },
  {
   "cell_type": "markdown",
   "metadata": {},
   "source": [
    "### Question 2\n",
    "\n",
    "Now that we have have our data, we need to split this into a set of variables we will be training on, and the set of variables that we will make our predictions on. In this case, we're splitting the values such that we train on all but the last year in our dataset. We also need to split our data into the predictive features (denoted `X`) and the response (denoted `y`). \n",
    "\n",
    "Write a function that will take as input a 2-d numpy array and return four variables in the form of `(X_train, y_train), (X_test, y_test)`, where `(X_train, y_train)` are the features / response of the training set, and `(X-test, y_test)` are the feautes / response of the testing set.\n",
    "\n",
    "_**Function Specifications:**_\n",
    "* Should take a 2-d numpy `array` as input.\n",
    "* Should return two `tuples` of the form `(X_train, y_train), (X_test, y_test)`.\n",
    "* `(X_test, y_test)` should just be the last entry of the given input. They should also be the form of an `array`, and not as a single value.\n"
   ]
  },
  {
   "cell_type": "code",
   "execution_count": 5,
   "metadata": {},
   "outputs": [],
   "source": [
    "def feature_response_split(arr):\n",
    "    # your code here\n",
    "    X_train = arr[0:-1, 0]\n",
    "    y_train = arr[0:-1, 1]\n",
    "    X_test = arr[-1:,0]\n",
    "    y_test = arr[-1:,1]\n",
    "        \n",
    "    return (X_train, y_train), (X_test, y_test)"
   ]
  },
  {
   "cell_type": "code",
   "execution_count": 6,
   "metadata": {},
   "outputs": [
    {
     "data": {
      "text/plain": [
       "((array([1960, 1961, 1962, 1963, 1964, 1965, 1966, 1967, 1968, 1969, 1970,\n",
       "         1971, 1972, 1973, 1974, 1975, 1976, 1977, 1978, 1979, 1980, 1981,\n",
       "         1982, 1983, 1984, 1985, 1986, 1987, 1988, 1989, 1990, 1991, 1992,\n",
       "         1993, 1994, 1995, 1996, 1997, 1998, 1999, 2000, 2001, 2002, 2003,\n",
       "         2004, 2005, 2006, 2007, 2008, 2009, 2010, 2011, 2012, 2013, 2014,\n",
       "         2015, 2016], dtype=int64),\n",
       "  array([3014940395, 3055691989, 3108379009, 3173207428, 3238441149,\n",
       "         3305101319, 3374903353, 3444384585, 3514639116, 3589069293,\n",
       "         3664271341, 3741545439, 3818075376, 3893726301, 3970035481,\n",
       "         4044577268, 4117105339, 4189387395, 4262884975, 4338225244,\n",
       "         4414334568, 4492427948, 4573445316, 4655199096, 4736682102,\n",
       "         4819699772, 4905221325, 4992879504, 5081453078, 5170171686,\n",
       "         5267861414, 5355034619, 5439046865, 5523974088, 5607765176,\n",
       "         5692526372, 5775191117, 5857799900, 5939330037, 6019808586,\n",
       "         6099498206, 6178999138, 6258066893, 6337336633, 6417178545,\n",
       "         6497569010, 6578653086, 6660306328, 6743298983, 6826490839,\n",
       "         6909731743, 6991803968, 7071734672, 7157142528, 7243184776,\n",
       "         7329250474, 7415694711], dtype=int64)),\n",
       " (array([2017], dtype=int64), array([7501739318], dtype=int64)))"
      ]
     },
     "execution_count": 6,
     "metadata": {},
     "output_type": "execute_result"
    }
   ],
   "source": [
    "data = get_total_population_by_country_year()\n",
    "feature_response_split(data)"
   ]
  },
  {
   "cell_type": "markdown",
   "metadata": {},
   "source": [
    "_**Expected Outputs:**_\n",
    "```python\n",
    "data = get_total_population_by_country_year()\n",
    "feature_response_split(data)\n",
    "```\n",
    "> ```\n",
    "((array([1960, 1961, 1962, 1963, 1964, 1965, 1966, 1967, 1968, 1969, 1970,\n",
    "         1971, 1972, 1973, 1974, 1975, 1976, 1977, 1978, 1979, 1980, 1981,\n",
    "         1982, 1983, 1984, 1985, 1986, 1987, 1988, 1989, 1990, 1991, 1992,\n",
    "         1993, 1994, 1995, 1996, 1997, 1998, 1999, 2000, 2001, 2002, 2003,\n",
    "         2004, 2005, 2006, 2007, 2008, 2009, 2010, 2011, 2012, 2013, 2014,\n",
    "         2015, 2016], dtype=int64),\n",
    "  array([3014940395, 3055691989, 3108379009, 3173207428, 3238441149,\n",
    "         3305101319, 3374903353, 3444384585, 3514639116, 3589069293,\n",
    "         3664271341, 3741545439, 3818075376, 3893726301, 3970035481,\n",
    "         4044577268, 4117105339, 4189387395, 4262884975, 4338225244,\n",
    "         4414334568, 4492427948, 4573445316, 4655199096, 4736682102,\n",
    "         4819699772, 4905221325, 4992879504, 5081453078, 5170171686,\n",
    "         5267861414, 5355034619, 5439046865, 5523974088, 5607765176,\n",
    "         5692526372, 5775191117, 5857799900, 5939330037, 6019808586,\n",
    "         6099498206, 6178999138, 6258066893, 6337336633, 6417178545,\n",
    "         6497569010, 6578653086, 6660306328, 6743298983, 6826490839,\n",
    "         6909731743, 6991803968, 7071734672, 7157142528, 7243184776,\n",
    "         7329250474, 7415694711], dtype=int64)),\n",
    " (array([2017], dtype=int64), array([7501739318], dtype=int64)))\n",
    " ```"
   ]
  },
  {
   "cell_type": "markdown",
   "metadata": {},
   "source": [
    "### Question 3\n",
    "\n",
    "Now that we have formatted our data, we can fit a model using sklearn's `DecisionTreeRegressor` class. We'll write a function that will take as input the features and response variables that we created in the last question, and return a trained model.\n",
    "\n",
    "_**Function Specifications:**_\n",
    "* Should take two numpy `arrays` as input in the form `(X_train, y_train)`.\n",
    "* Should return an sklearn `DecisionTreeRegressor` model.\n",
    "* The returned model should be fitted to the data.\n",
    "\n",
    "_**Hint:**_\n",
    "You may need to reshape the data within the function. You can use `.reshape(-1, 1)` to do this.\n"
   ]
  },
  {
   "cell_type": "code",
   "execution_count": 7,
   "metadata": {},
   "outputs": [],
   "source": [
    "def train_model(X_train, y_train):\n",
    "    # your code here\n",
    "    X_train = X_train.reshape(-1,1)\n",
    "    y_train = y_train.reshape(-1,1)\n",
    "\n",
    "    model = DecisionTreeRegressor()\n",
    "   \n",
    "    return model.fit(X_train, y_train)"
   ]
  },
  {
   "cell_type": "code",
   "execution_count": 8,
   "metadata": {},
   "outputs": [
    {
     "data": {
      "text/plain": [
       "array([7.41569471e+09])"
      ]
     },
     "execution_count": 8,
     "metadata": {},
     "output_type": "execute_result"
    }
   ],
   "source": [
    "data = get_total_population_by_country_year()\n",
    "(X_train, y_train), _ = feature_response_split(data)\n",
    "train_model(X_train, y_train).predict([[2017]])"
   ]
  },
  {
   "cell_type": "markdown",
   "metadata": {},
   "source": [
    "_**Expected Outputs:**_\n",
    "```python\n",
    "train_model(X_train, y_train).predict([[2017]]) == array([[7.41569471e+09]])\n",
    "```"
   ]
  },
  {
   "cell_type": "markdown",
   "metadata": {},
   "source": [
    "### Question 4\n",
    "\n",
    "We would now like to test on our testing data that we produced from Question 2. This test will give the Root Mean Squared Logarithmic Error (RMSLE), which is given by:\n",
    "\n",
    "$$\n",
    "RMSLE = \\sqrt{\\frac{1}{N}\\sum_{i=1}^N [log(1+p_i) - log(1+y_i)]^2}\n",
    "$$\n",
    "\n",
    "where $p_i$ refers to the $i^{\\rm th}$ prediction made from `X_test`, $y_i$ refers to the $i^{\\rm th}$ value in `y_test`, and $N$ is the length of `y_test`.\n",
    "\n",
    "_**Function Specifications:**_\n",
    "* Should take a trained model and two `arrays` as input. This will be the `X_test` and `y_test` variables from Question 2. \n",
    "* Should return the residual sum of squares over the input from the predicted values of `X_test` as compared to values of `y_test`.\n",
    "* The output should be a `float` rounded to 3 decimal places.\n",
    "\n",
    "_**Hint:**_\n",
    "The Root Mean Squared Logarithmic Error is used to calculate the score in the kaggle House Prices Competition."
   ]
  },
  {
   "cell_type": "code",
   "execution_count": 9,
   "metadata": {},
   "outputs": [],
   "source": [
    "def test_model(model, X_test, y_test):\n",
    "    # your code here\n",
    "    X_test = X_test.reshape(-1,1)\n",
    "    y_test = y_test.reshape(-1,1)\n",
    "   \n",
    "    RMSLE = np.round(np.sqrt((np.log(1 + model.predict(X_test)) - np.log(1 + y_test))**2),3)\n",
    "            \n",
    "    return RMSLE"
   ]
  },
  {
   "cell_type": "code",
   "execution_count": 10,
   "metadata": {},
   "outputs": [
    {
     "data": {
      "text/plain": [
       "array([[0.012]])"
      ]
     },
     "execution_count": 10,
     "metadata": {},
     "output_type": "execute_result"
    }
   ],
   "source": [
    "data = get_total_population_by_country_year()\n",
    "(X_train, y_train), (X_test, y_test) = feature_response_split(data)\n",
    "lm = train_model(X_train, y_train)\n",
    "test_model(lm, X_test, y_test)"
   ]
  },
  {
   "cell_type": "markdown",
   "metadata": {},
   "source": [
    "_**Expected Outputs:**_\n",
    "```python\n",
    "test_model(lm, X_test, y_test) == 0.012\n",
    "```"
   ]
  }
 ],
 "metadata": {
  "kernelspec": {
   "display_name": "Python 3",
   "language": "python",
   "name": "python3"
  },
  "language_info": {
   "codemirror_mode": {
    "name": "ipython",
    "version": 3
   },
   "file_extension": ".py",
   "mimetype": "text/x-python",
   "name": "python",
   "nbconvert_exporter": "python",
   "pygments_lexer": "ipython3",
   "version": "3.7.1"
  }
 },
 "nbformat": 4,
 "nbformat_minor": 2
}
